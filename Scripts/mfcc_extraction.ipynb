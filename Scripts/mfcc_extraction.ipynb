{
  "nbformat": 4,
  "nbformat_minor": 0,
  "metadata": {
    "colab": {
      "provenance": []
    },
    "kernelspec": {
      "name": "python3",
      "display_name": "Python 3"
    },
    "language_info": {
      "name": "python"
    }
  },
  "cells": [
    {
      "cell_type": "code",
      "source": [
        "from google.colab import drive\n",
        "drive.mount('/content/drive')"
      ],
      "metadata": {
        "id": "_6dT961Y5Aju",
        "colab": {
          "base_uri": "https://localhost:8080/"
        },
        "outputId": "e798d419-05cf-4a30-f252-dae1d3c0f693"
      },
      "execution_count": null,
      "outputs": [
        {
          "output_type": "stream",
          "name": "stdout",
          "text": [
            "Mounted at /content/drive\n"
          ]
        }
      ]
    },
    {
      "cell_type": "code",
      "source": [
        "import os\n",
        "import numpy as np\n",
        "import librosa\n",
        "from tensorflow.keras.utils import to_categorical\n",
        "from sklearn.preprocessing import LabelEncoder\n"
      ],
      "metadata": {
        "id": "9DQgfecJO9o8"
      },
      "execution_count": null,
      "outputs": []
    },
    {
      "cell_type": "code",
      "source": [
        "# Define the path to the audio data\n",
        "data_path = '/content/drive/MyDrive/Envision2024/dataset'\n",
        "def load_data(dataset_folder, normalize = False, n_mfcc=13):\n",
        "    data = []\n",
        "    labels = []\n",
        "    max_length = 0  # Initialize max_length to track the maximum length\n",
        "    for species_folder in os.listdir(dataset_folder):\n",
        "        species_path = os.path.join(dataset_folder, species_folder)\n",
        "        if os.path.isdir(species_path):\n",
        "            for filename in os.listdir(species_path):\n",
        "                audio_path = os.path.join(species_path, filename)\n",
        "                signal, sr = librosa.load(audio_path, sr=None)\n",
        "                mfccs = librosa.feature.mfcc(y=signal, sr=sr, n_mfcc=n_mfcc)\n",
        "                if normalize:\n",
        "                  mfccs = librosa.util.normalize(mfccs)\n",
        "                data.append(mfccs.T)  # Transpose MFCCs to match shape (time_steps, n_mfcc)\n",
        "                labels.append(species_folder)\n",
        "                max_length = max(max_length, mfccs.shape[1])  # Update max_length\n",
        "    return data, labels, max_length"
      ],
      "metadata": {
        "id": "0widcx9HPO-G"
      },
      "execution_count": null,
      "outputs": []
    },
    {
      "cell_type": "code",
      "source": [
        "data, labels, max_length = load_data(data_path, False, 40)\n",
        "labels[0]"
      ],
      "metadata": {
        "id": "KVpIdKxzPX8j",
        "colab": {
          "base_uri": "https://localhost:8080/",
          "height": 36
        },
        "outputId": "658436e3-ad3f-4734-9de4-7b944ed90ef7"
      },
      "execution_count": null,
      "outputs": [
        {
          "output_type": "execute_result",
          "data": {
            "text/plain": [
              "'Dicrurus andamanensis'"
            ],
            "application/vnd.google.colaboratory.intrinsic+json": {
              "type": "string"
            }
          },
          "metadata": {},
          "execution_count": 8
        }
      ]
    },
    {
      "cell_type": "code",
      "source": [
        "data_n, labels, max_length = load_data(data_path, True, 40)"
      ],
      "metadata": {
        "id": "b52eWFosqBob"
      },
      "execution_count": null,
      "outputs": []
    },
    {
      "cell_type": "code",
      "source": [
        "# Assuming max_length is the desired length for all sequences\n",
        "for i in range(len(data)):\n",
        "    if data[i].shape[0] < max_length:\n",
        "        # Pad shorter sequences with zeros\n",
        "        padding = np.zeros((max_length - data[i].shape[0], data[i].shape[1]))\n",
        "        data[i] = np.vstack((data[i], padding))\n",
        "    elif data[i].shape[0] > max_length:\n",
        "        # Truncate longer sequences\n",
        "        data[i] = data[i][:max_length]\n"
      ],
      "metadata": {
        "id": "Kyh6S3C_vCBU"
      },
      "execution_count": null,
      "outputs": []
    },
    {
      "cell_type": "code",
      "source": [
        "labels = np.array(labels)\n",
        "data = np.array(data)\n",
        "data.shape"
      ],
      "metadata": {
        "id": "2INKWqIju4j_",
        "colab": {
          "base_uri": "https://localhost:8080/"
        },
        "outputId": "f7b90dc0-be19-4853-e0b5-75057970478a"
      },
      "execution_count": null,
      "outputs": [
        {
          "output_type": "execute_result",
          "data": {
            "text/plain": [
              "(129, 15028, 40)"
            ]
          },
          "metadata": {},
          "execution_count": 20
        }
      ]
    },
    {
      "cell_type": "code",
      "source": [
        "def add_padding(data, max_length):\n",
        "  for i in range(len(data)):\n",
        "    if data[i].shape[0] < max_length:\n",
        "        # Pad shorter sequences with zeros\n",
        "        padding = np.zeros((max_length - data[i].shape[0], data[i].shape[1]))\n",
        "        data[i] = np.vstack((data[i], padding))\n",
        "    elif data[i].shape[0] > max_length:\n",
        "        # Truncate longer sequences\n",
        "        data[i] = data[i][:max_length]\n",
        "  return data"
      ],
      "metadata": {
        "id": "rEWd60DsQxLB"
      },
      "execution_count": null,
      "outputs": []
    },
    {
      "cell_type": "code",
      "source": [
        "data_n = add_padding(data_n,max_length)"
      ],
      "metadata": {
        "id": "qWxekumkeqjr"
      },
      "execution_count": null,
      "outputs": []
    },
    {
      "cell_type": "code",
      "source": [
        "# Assuming labels is a list or array containing your original labels\n",
        "# Convert labels to integer encoding\n",
        "label_encoder = LabelEncoder()\n",
        "labels_encoded = label_encoder.fit_transform(labels)\n",
        "\n",
        "# Get the number of unique classes\n",
        "num_classes = len(label_encoder.classes_)\n",
        "# Convert integer labels to categorical format using one-hot encoding\n",
        "labels_categorical = to_categorical(labels_encoded, num_classes=num_classes)\n"
      ],
      "metadata": {
        "id": "ggG2PXtHQGGE"
      },
      "execution_count": null,
      "outputs": []
    },
    {
      "cell_type": "code",
      "source": [
        "np.save(f\"{data_path}/mfcc_40\", data)\n",
        "np.save(f\"{data_path}/labels_40\", labels)"
      ],
      "metadata": {
        "id": "SBHmCIs-wkp9"
      },
      "execution_count": null,
      "outputs": []
    },
    {
      "cell_type": "code",
      "source": [
        "np.save(f\"{data_path}/mfcc_normalized_40\", data_n)\n"
      ],
      "metadata": {
        "id": "QG-IyW-qyE_m"
      },
      "execution_count": null,
      "outputs": []
    },
    {
      "cell_type": "code",
      "source": [],
      "metadata": {
        "id": "mOCPbj7KBuQM"
      },
      "execution_count": null,
      "outputs": []
    }
  ]
}