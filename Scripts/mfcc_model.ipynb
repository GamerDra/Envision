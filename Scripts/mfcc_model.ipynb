{
  "nbformat": 4,
  "nbformat_minor": 0,
  "metadata": {
    "colab": {
      "provenance": []
    },
    "kernelspec": {
      "name": "python3",
      "display_name": "Python 3"
    },
    "language_info": {
      "name": "python"
    }
  },
  "cells": [
    {
      "cell_type": "code",
      "source": [
        "from google.colab import drive\n",
        "drive.mount('/content/drive')"
      ],
      "metadata": {
        "id": "_6dT961Y5Aju",
        "colab": {
          "base_uri": "https://localhost:8080/"
        },
        "outputId": "541fe1ed-5ffc-45b6-a0c8-3683342e73b0"
      },
      "execution_count": null,
      "outputs": [
        {
          "output_type": "stream",
          "name": "stdout",
          "text": [
            "Mounted at /content/drive\n"
          ]
        }
      ]
    },
    {
      "cell_type": "code",
      "source": [
        "# shared_folder_path = '/content/drive/MyDrive/Envision_Dataset'\n",
        "# # https://drive.google.com/drive/folders/1Vq1Oj9-y2MmQOCc1Py0_SpwEefT7bdS3?usp=drive_link\n",
        "# # List contents of the shared folder\n",
        "# import os\n",
        "# os.listdir(shared_folder_path)\n",
        "# import shutil\n",
        "# shutil.copytree(shared_folder_path, '/content/drive/MyDrive/Envision2024/dataset')  # Replace '/content/data' with your desired destination path"
      ],
      "metadata": {
        "id": "0b1aj1WkJUEg"
      },
      "execution_count": null,
      "outputs": []
    },
    {
      "cell_type": "code",
      "source": [
        "import os\n",
        "import numpy as np\n",
        "import librosa\n",
        "import tensorflow as tf\n",
        "from tensorflow.keras.models import Sequential\n",
        "from tensorflow.keras.layers import Dense, Dropout, Activation, Conv2D, MaxPooling2D, Flatten\n",
        "from tensorflow.keras.utils import to_categorical\n",
        "from sklearn.model_selection import train_test_split"
      ],
      "metadata": {
        "id": "9DQgfecJO9o8"
      },
      "execution_count": null,
      "outputs": []
    },
    {
      "cell_type": "code",
      "source": [
        "# Define the path to the audio data\n",
        "data_path = '/content/drive/MyDrive/Envision2024/dataset'\n",
        "def load_data(dataset_folder):\n",
        "    data = []\n",
        "    labels = []\n",
        "    max_length = 0  # Initialize max_length to track the maximum length\n",
        "    for species_folder in os.listdir(dataset_folder):\n",
        "        species_path = os.path.join(dataset_folder, species_folder)\n",
        "        if os.path.isdir(species_path):\n",
        "            for filename in os.listdir(species_path):\n",
        "                audio_path = os.path.join(species_path, filename)\n",
        "                signal, sr = librosa.load(audio_path, sr=None)\n",
        "                mfccs = librosa.feature.mfcc(y=signal, sr=sr, n_mfcc=13)\n",
        "                data.append(mfccs.T)  # Transpose MFCCs to match shape (time_steps, n_mfcc)\n",
        "                labels.append(species_folder)\n",
        "                max_length = max(max_length, mfccs.shape[1])  # Update max_length\n",
        "    return data, labels, max_length"
      ],
      "metadata": {
        "id": "0widcx9HPO-G"
      },
      "execution_count": null,
      "outputs": []
    },
    {
      "cell_type": "code",
      "source": [
        "data, labels, max_length = load_data(data_path)\n",
        "labels[0]"
      ],
      "metadata": {
        "id": "KVpIdKxzPX8j",
        "colab": {
          "base_uri": "https://localhost:8080/",
          "height": 36
        },
        "outputId": "858d3047-a8e1-4033-98c1-2a54b3b52732"
      },
      "execution_count": null,
      "outputs": [
        {
          "output_type": "execute_result",
          "data": {
            "text/plain": [
              "'Dicrurus andamanensis'"
            ],
            "application/vnd.google.colaboratory.intrinsic+json": {
              "type": "string"
            }
          },
          "metadata": {},
          "execution_count": 43
        }
      ]
    },
    {
      "cell_type": "code",
      "source": [
        "# Assuming max_length is the desired length for all sequences\n",
        "for i in range(len(data)):\n",
        "    if data[i].shape[0] < max_length:\n",
        "        # Pad shorter sequences with zeros\n",
        "        padding = np.zeros((max_length - data[i].shape[0], data[i].shape[1]))\n",
        "        data[i] = np.vstack((data[i], padding))\n",
        "    elif data[i].shape[0] > max_length:\n",
        "        # Truncate longer sequences\n",
        "        data[i] = data[i][:max_length]\n"
      ],
      "metadata": {
        "id": "Kyh6S3C_vCBU"
      },
      "execution_count": null,
      "outputs": []
    },
    {
      "cell_type": "code",
      "source": [
        "labels = np.array(labels)\n",
        "data = np.array(data)"
      ],
      "metadata": {
        "id": "2INKWqIju4j_"
      },
      "execution_count": null,
      "outputs": []
    },
    {
      "cell_type": "code",
      "source": [
        "print(data.shape)\n",
        "# data = np.expand_dims(data, axis=-1)"
      ],
      "metadata": {
        "colab": {
          "base_uri": "https://localhost:8080/"
        },
        "id": "rEWd60DsQxLB",
        "outputId": "20d7f00b-a01a-427a-9dfe-dce98d01cfa1"
      },
      "execution_count": null,
      "outputs": [
        {
          "output_type": "stream",
          "name": "stdout",
          "text": [
            "(129, 15028, 13)\n"
          ]
        }
      ]
    },
    {
      "cell_type": "code",
      "source": [
        "data_copy = data"
      ],
      "metadata": {
        "id": "qWxekumkeqjr"
      },
      "execution_count": null,
      "outputs": []
    },
    {
      "cell_type": "code",
      "source": [
        "labels[0]"
      ],
      "metadata": {
        "colab": {
          "base_uri": "https://localhost:8080/",
          "height": 36
        },
        "id": "icgh_YPdx-OW",
        "outputId": "1c17f845-5815-4e17-af9f-f1d375c27ea4"
      },
      "execution_count": null,
      "outputs": [
        {
          "output_type": "execute_result",
          "data": {
            "text/plain": [
              "'Dicrurus andamanensis'"
            ],
            "application/vnd.google.colaboratory.intrinsic+json": {
              "type": "string"
            }
          },
          "metadata": {},
          "execution_count": 48
        }
      ]
    },
    {
      "cell_type": "code",
      "source": [
        "from sklearn.preprocessing import LabelEncoder\n",
        "\n",
        "\n",
        "# Assuming labels is a list or array containing your original labels\n",
        "# Convert labels to integer encoding\n",
        "label_encoder = LabelEncoder()\n",
        "labels_encoded = label_encoder.fit_transform(labels)\n",
        "\n",
        "# Get the number of unique classes\n",
        "num_classes = len(label_encoder.classes_)\n",
        "\n",
        "# Convert integer labels to categorical format using one-hot encoding\n",
        "labels_categorical = to_categorical(labels_encoded, num_classes=num_classes)\n"
      ],
      "metadata": {
        "id": "ggG2PXtHQGGE"
      },
      "execution_count": null,
      "outputs": []
    },
    {
      "cell_type": "code",
      "source": [
        "num_classes"
      ],
      "metadata": {
        "colab": {
          "base_uri": "https://localhost:8080/"
        },
        "id": "Fn1Nr-c0Qyhn",
        "outputId": "261dc2df-b794-4721-bb10-a7e72e11696e"
      },
      "execution_count": null,
      "outputs": [
        {
          "output_type": "execute_result",
          "data": {
            "text/plain": [
              "5"
            ]
          },
          "metadata": {},
          "execution_count": 50
        }
      ]
    },
    {
      "cell_type": "code",
      "source": [
        "data_copy.shape"
      ],
      "metadata": {
        "colab": {
          "base_uri": "https://localhost:8080/"
        },
        "id": "zyY-cj0gyXC6",
        "outputId": "af3b2b7a-1156-4478-fd76-a38ee6cabd46"
      },
      "execution_count": null,
      "outputs": [
        {
          "output_type": "execute_result",
          "data": {
            "text/plain": [
              "(129, 15028, 13)"
            ]
          },
          "metadata": {},
          "execution_count": 51
        }
      ]
    },
    {
      "cell_type": "markdown",
      "source": [
        "# Cnn2d 2 conv layers  one flat and 1 dense layer no dropout"
      ],
      "metadata": {
        "id": "7f8JI9xIc3bA"
      }
    },
    {
      "cell_type": "code",
      "source": [
        "X_train, X_test, y_train, y_test = train_test_split(data_copy, labels_categorical, test_size=0.2, random_state=42)  # Split data\n",
        "\n",
        "X_train = X_train.reshape(-1, 15028, 13, 1)\n",
        "X_test = X_test.reshape(-1, 15028, 13, 1)"
      ],
      "metadata": {
        "id": "mOCPbj7KBuQM"
      },
      "execution_count": null,
      "outputs": []
    },
    {
      "cell_type": "code",
      "source": [
        "X_train.shape"
      ],
      "metadata": {
        "id": "Za9z-j1zTDyO",
        "colab": {
          "base_uri": "https://localhost:8080/"
        },
        "outputId": "573bad42-85b3-402e-a625-c238b89a2543"
      },
      "execution_count": null,
      "outputs": [
        {
          "output_type": "execute_result",
          "data": {
            "text/plain": [
              "(103, 15028, 13, 1)"
            ]
          },
          "metadata": {},
          "execution_count": 24
        }
      ]
    },
    {
      "cell_type": "code",
      "source": [
        "model = tf.keras.Sequential([\n",
        "    tf.keras.layers.Conv2D(filters=32, kernel_size=(3, 3), activation='relu', input_shape=(15028, 13, 1)),\n",
        "    tf.keras.layers.MaxPooling2D(pool_size=(2, 2)),\n",
        "    tf.keras.layers.Conv2D(filters=64, kernel_size=(3, 3), activation='relu'),\n",
        "    tf.keras.layers.MaxPooling2D(pool_size=(2, 2)),\n",
        "    tf.keras.layers.Flatten(),\n",
        "    tf.keras.layers.Dense(128, activation='relu'),\n",
        "    tf.keras.layers.Dense(num_classes, activation='softmax')\n",
        "])"
      ],
      "metadata": {
        "id": "tvz8y0_qO6mc"
      },
      "execution_count": null,
      "outputs": []
    },
    {
      "cell_type": "code",
      "source": [
        "\n",
        "model.compile(loss='categorical_crossentropy',\n",
        "              optimizer='adam',\n",
        "              metrics=['accuracy'])\n",
        "\n",
        "\n",
        "model.fit(X_train, y_train, validation_data=(X_test, y_test), epochs=10)\n",
        "\n",
        "\n",
        "loss, accuracy = model.evaluate(X_test, y_test)\n",
        "print(\"Test Accuracy:\", accuracy)"
      ],
      "metadata": {
        "colab": {
          "base_uri": "https://localhost:8080/"
        },
        "id": "6RUvT08K0Jz4",
        "outputId": "f534ebfc-cb41-4bcf-ea9d-fdc2f579c654"
      },
      "execution_count": null,
      "outputs": [
        {
          "output_type": "stream",
          "name": "stdout",
          "text": [
            "Epoch 1/10\n",
            "4/4 [==============================] - 9s 725ms/step - loss: 370.3412 - accuracy: 0.2136 - val_loss: 146.6017 - val_accuracy: 0.2308\n",
            "Epoch 2/10\n",
            "4/4 [==============================] - 0s 93ms/step - loss: 74.2439 - accuracy: 0.2330 - val_loss: 13.5259 - val_accuracy: 0.3846\n",
            "Epoch 3/10\n",
            "4/4 [==============================] - 0s 93ms/step - loss: 8.6498 - accuracy: 0.4757 - val_loss: 8.5996 - val_accuracy: 0.3462\n",
            "Epoch 4/10\n",
            "4/4 [==============================] - 0s 92ms/step - loss: 3.5708 - accuracy: 0.5922 - val_loss: 4.5495 - val_accuracy: 0.3462\n",
            "Epoch 5/10\n",
            "4/4 [==============================] - 0s 91ms/step - loss: 1.6689 - accuracy: 0.7476 - val_loss: 2.4082 - val_accuracy: 0.3462\n",
            "Epoch 6/10\n",
            "4/4 [==============================] - 0s 95ms/step - loss: 1.0095 - accuracy: 0.8155 - val_loss: 1.5898 - val_accuracy: 0.3462\n",
            "Epoch 7/10\n",
            "4/4 [==============================] - 0s 91ms/step - loss: 0.6107 - accuracy: 0.9320 - val_loss: 1.3565 - val_accuracy: 0.3462\n",
            "Epoch 8/10\n",
            "4/4 [==============================] - 0s 94ms/step - loss: 0.3918 - accuracy: 0.9709 - val_loss: 1.5055 - val_accuracy: 0.4231\n",
            "Epoch 9/10\n",
            "4/4 [==============================] - 0s 95ms/step - loss: 0.1958 - accuracy: 0.9806 - val_loss: 1.6692 - val_accuracy: 0.4231\n",
            "Epoch 10/10\n",
            "4/4 [==============================] - 0s 92ms/step - loss: 0.0992 - accuracy: 0.9903 - val_loss: 1.8642 - val_accuracy: 0.5000\n",
            "1/1 [==============================] - 0s 59ms/step - loss: 1.8642 - accuracy: 0.5000\n",
            "Test Accuracy: 0.5\n"
          ]
        }
      ]
    },
    {
      "cell_type": "markdown",
      "source": [
        "# 2 conv layers  1 dense layer dropout (0.25, .24, 0.5 respectively)"
      ],
      "metadata": {
        "id": "S7sP3qrpdhyU"
      }
    },
    {
      "cell_type": "code",
      "source": [
        "X_train, X_test, y_train, y_test = train_test_split(data_copy, labels_categorical, test_size=0.2, random_state=42)  # Split data\n",
        "\n",
        "X_train = X_train.reshape(-1, 15028, 13, 1)\n",
        "X_test = X_test.reshape(-1, 15028, 13, 1)\n",
        "model = tf.keras.Sequential([\n",
        "    tf.keras.layers.Conv2D(filters=32, kernel_size=(3, 3), activation='relu', input_shape=(15028, 13, 1)),\n",
        "    tf.keras.layers.MaxPooling2D(pool_size=(2, 2)),\n",
        "    tf.keras.layers.Dropout(0.25),\n",
        "    tf.keras.layers.Conv2D(filters=64, kernel_size=(3, 3), activation='relu'),\n",
        "    tf.keras.layers.MaxPooling2D(pool_size=(2, 2)),\n",
        "    tf.keras.layers.Dropout(0.25),\n",
        "    tf.keras.layers.Flatten(),\n",
        "    tf.keras.layers.Dense(128, activation='relu'),\n",
        "    tf.keras.layers.Dropout(0.5),\n",
        "    tf.keras.layers.Dense(num_classes, activation='softmax')\n",
        "])\n",
        "\n",
        "model.compile(loss='categorical_crossentropy',\n",
        "              optimizer='adam',\n",
        "              metrics=['accuracy'])\n",
        "\n",
        "\n",
        "early_stopping = tf.keras.callbacks.EarlyStopping(patience=5, restore_best_weights=True)\n",
        "model.fit(X_train, y_train, validation_data=(X_test, y_test), epochs=100, callbacks=[early_stopping])\n",
        "loss, accuracy = model.evaluate(X_test, y_test)\n",
        "print(\"Test Accuracy:\", accuracy)"
      ],
      "metadata": {
        "colab": {
          "base_uri": "https://localhost:8080/"
        },
        "id": "LRAiH2aiVwmw",
        "outputId": "99912c42-d190-4ee7-8724-dc7e3a598518"
      },
      "execution_count": null,
      "outputs": [
        {
          "output_type": "stream",
          "name": "stdout",
          "text": [
            "Epoch 1/100\n",
            "4/4 [==============================] - 27s 6s/step - loss: 512.2645 - accuracy: 0.2524 - val_loss: 182.1291 - val_accuracy: 0.1923\n",
            "Epoch 2/100\n",
            "4/4 [==============================] - 23s 6s/step - loss: 360.5582 - accuracy: 0.2427 - val_loss: 21.5316 - val_accuracy: 0.2692\n",
            "Epoch 3/100\n",
            "4/4 [==============================] - 24s 6s/step - loss: 66.1820 - accuracy: 0.3010 - val_loss: 7.2220 - val_accuracy: 0.2308\n",
            "Epoch 4/100\n",
            "4/4 [==============================] - 24s 6s/step - loss: 11.6040 - accuracy: 0.3883 - val_loss: 10.5839 - val_accuracy: 0.1923\n",
            "Epoch 5/100\n",
            "4/4 [==============================] - 23s 6s/step - loss: 7.7659 - accuracy: 0.4272 - val_loss: 3.8667 - val_accuracy: 0.1923\n",
            "Epoch 6/100\n",
            "4/4 [==============================] - 24s 6s/step - loss: 2.8227 - accuracy: 0.4175 - val_loss: 1.5330 - val_accuracy: 0.3077\n",
            "Epoch 7/100\n",
            "4/4 [==============================] - 22s 6s/step - loss: 1.2180 - accuracy: 0.5340 - val_loss: 1.4174 - val_accuracy: 0.2692\n",
            "Epoch 8/100\n",
            "4/4 [==============================] - 24s 6s/step - loss: 1.1994 - accuracy: 0.5437 - val_loss: 1.4421 - val_accuracy: 0.2692\n",
            "Epoch 9/100\n",
            "4/4 [==============================] - 33s 9s/step - loss: 1.1904 - accuracy: 0.5728 - val_loss: 1.5038 - val_accuracy: 0.2692\n",
            "Epoch 10/100\n",
            "4/4 [==============================] - 23s 6s/step - loss: 1.1650 - accuracy: 0.5728 - val_loss: 1.5267 - val_accuracy: 0.3077\n",
            "Epoch 11/100\n",
            "4/4 [==============================] - 21s 5s/step - loss: 1.1623 - accuracy: 0.5728 - val_loss: 1.5293 - val_accuracy: 0.3077\n",
            "Epoch 12/100\n",
            "4/4 [==============================] - 23s 5s/step - loss: 1.1759 - accuracy: 0.5146 - val_loss: 1.5123 - val_accuracy: 0.3077\n",
            "1/1 [==============================] - 1s 1s/step - loss: 1.4174 - accuracy: 0.2692\n",
            "Test Accuracy: 0.26923078298568726\n"
          ]
        }
      ]
    },
    {
      "cell_type": "markdown",
      "source": [
        "# 2 conv layers dense layer dropout with **L2  regularization**"
      ],
      "metadata": {
        "id": "iC3Dvuq0eSkz"
      }
    },
    {
      "cell_type": "code",
      "source": [
        "from tensorflow.keras import regularizers\n",
        "X_train, X_test, y_train, y_test = train_test_split(data_copy, labels_categorical, test_size=0.2, random_state=42)  # Split data\n",
        "X_train = X_train.reshape(-1, 15028, 13, 1)\n",
        "X_test = X_test.reshape(-1, 15028, 13, 1)\n",
        "\n",
        "\n",
        "model = tf.keras.Sequential([\n",
        "    tf.keras.layers.Conv2D(filters=32, kernel_size=(3, 3), activation='relu',\n",
        "                           kernel_regularizer=regularizers.l2(0.01),\n",
        "                           input_shape=(15028, 13, 1)),\n",
        "    tf.keras.layers.MaxPooling2D(pool_size=(2, 2)),\n",
        "    tf.keras.layers.Dropout(0.25),\n",
        "    tf.keras.layers.Conv2D(filters=64, kernel_size=(3, 3), activation='relu',\n",
        "                           kernel_regularizer=regularizers.l2(0.01)),\n",
        "    tf.keras.layers.MaxPooling2D(pool_size=(2, 2)),\n",
        "    tf.keras.layers.Dropout(0.25),\n",
        "    tf.keras.layers.Flatten(),\n",
        "    tf.keras.layers.Dense(128, activation='relu',\n",
        "                          kernel_regularizer=regularizers.l2(0.01)),\n",
        "    tf.keras.layers.Dropout(0.5),\n",
        "    tf.keras.layers.Dense(num_classes, activation='softmax')\n",
        "])\n",
        "\n",
        "model.compile(loss='categorical_crossentropy',\n",
        "              optimizer='adam',\n",
        "              metrics=['accuracy'])\n",
        "\n",
        "\n",
        "early_stopping = tf.keras.callbacks.EarlyStopping(patience=10, restore_best_weights=True)\n",
        "model.fit(X_train, y_train, validation_data=(X_test, y_test), epochs=100, callbacks=[early_stopping])\n",
        "\n",
        "\n",
        "loss, accuracy = model.evaluate(X_test, y_test)\n",
        "print(\"Test Accuracy:\", accuracy)"
      ],
      "metadata": {
        "colab": {
          "base_uri": "https://localhost:8080/"
        },
        "id": "ElVCDZXHXLWW",
        "outputId": "52e6aba7-8b9c-49cc-caaf-f1ec6c617cd4"
      },
      "execution_count": null,
      "outputs": [
        {
          "output_type": "stream",
          "name": "stdout",
          "text": [
            "Epoch 1/100\n",
            "4/4 [==============================] - 25s 6s/step - loss: 446.2744 - accuracy: 0.2039 - val_loss: 91.5264 - val_accuracy: 0.2692\n",
            "Epoch 2/100\n",
            "4/4 [==============================] - 22s 5s/step - loss: 144.0443 - accuracy: 0.3107 - val_loss: 10.5344 - val_accuracy: 0.3462\n",
            "Epoch 3/100\n",
            "4/4 [==============================] - 24s 6s/step - loss: 40.9192 - accuracy: 0.2330 - val_loss: 6.3664 - val_accuracy: 0.1923\n",
            "Epoch 4/100\n",
            "4/4 [==============================] - 21s 5s/step - loss: 13.6864 - accuracy: 0.3398 - val_loss: 5.1914 - val_accuracy: 0.3462\n",
            "Epoch 5/100\n",
            "4/4 [==============================] - 23s 5s/step - loss: 5.6241 - accuracy: 0.3981 - val_loss: 5.6342 - val_accuracy: 0.3077\n",
            "Epoch 6/100\n",
            "4/4 [==============================] - 21s 5s/step - loss: 5.6287 - accuracy: 0.4951 - val_loss: 5.5530 - val_accuracy: 0.3462\n",
            "Epoch 7/100\n",
            "4/4 [==============================] - 23s 5s/step - loss: 5.3044 - accuracy: 0.5534 - val_loss: 5.6677 - val_accuracy: 0.3462\n",
            "Epoch 8/100\n",
            "4/4 [==============================] - 21s 5s/step - loss: 5.3765 - accuracy: 0.6019 - val_loss: 5.7488 - val_accuracy: 0.3077\n",
            "Epoch 9/100\n",
            "4/4 [==============================] - 23s 5s/step - loss: 5.5277 - accuracy: 0.5243 - val_loss: 5.7939 - val_accuracy: 0.3462\n",
            "Epoch 10/100\n",
            "4/4 [==============================] - 21s 5s/step - loss: 5.4413 - accuracy: 0.6408 - val_loss: 5.7932 - val_accuracy: 0.3077\n",
            "Epoch 11/100\n",
            "4/4 [==============================] - 23s 5s/step - loss: 5.4246 - accuracy: 0.6505 - val_loss: 5.7708 - val_accuracy: 0.3462\n",
            "Epoch 12/100\n",
            "4/4 [==============================] - 22s 5s/step - loss: 5.3741 - accuracy: 0.6796 - val_loss: 5.7290 - val_accuracy: 0.4231\n",
            "Epoch 13/100\n",
            "4/4 [==============================] - 23s 5s/step - loss: 5.3188 - accuracy: 0.6505 - val_loss: 5.6846 - val_accuracy: 0.4231\n",
            "Epoch 14/100\n",
            "4/4 [==============================] - 21s 5s/step - loss: 5.2638 - accuracy: 0.6990 - val_loss: 5.6379 - val_accuracy: 0.3846\n",
            "1/1 [==============================] - 1s 1s/step - loss: 5.1914 - accuracy: 0.3462\n",
            "Test Accuracy: 0.3461538553237915\n"
          ]
        }
      ]
    },
    {
      "cell_type": "code",
      "source": [
        "# def normalize_data(data, max_length):\n",
        "#   for i in range(len(data)):\n",
        "#         if data[i].shape[0] < max_length:\n",
        "#               # Pad shorter sequences with zeros\n",
        "#           padding = np.zeros((max_length - data[i].shape[0], data[i].shape[1]))\n",
        "#           data[i] = np.vstack((data[i], padding))\n",
        "#         elif data[i].shape[0] > max_length:\n",
        "#             # Truncate longer sequences\n",
        "#           data[i] = data[i][:max_length]\n",
        "\n",
        "#           # Normalize MFCC features between -1 and 1\n",
        "#         data_min_val = np.min(data[i])\n",
        "#         data_max_val = np.max(data[i])\n",
        "#         data_range = data_max_val - data_min_val\n",
        "#         data[i] = -1 + 2 * ((data[i] - data_min_val) / data_range)\n",
        "\n",
        "#   return data"
      ],
      "metadata": {
        "id": "clmfQpdlfLwN"
      },
      "execution_count": null,
      "outputs": []
    },
    {
      "cell_type": "code",
      "source": [],
      "metadata": {
        "id": "QbbX-w5Skr4Y"
      },
      "execution_count": null,
      "outputs": []
    },
    {
      "cell_type": "code",
      "source": [],
      "metadata": {
        "colab": {
          "base_uri": "https://localhost:8080/"
        },
        "id": "2HbIkuRNftNr",
        "outputId": "49d7b603-da77-4df6-9d06-232cfce3fce3"
      },
      "execution_count": null,
      "outputs": [
        {
          "output_type": "execute_result",
          "data": {
            "text/plain": [
              "array([[[-1.        ,  0.73380252,  0.73380252, ...,  0.73380252,\n",
              "          0.73380252,  0.73380252],\n",
              "        [-1.        ,  0.73380252,  0.73380252, ...,  0.73380252,\n",
              "          0.73380252,  0.73380252],\n",
              "        [-1.        ,  0.73380252,  0.73380252, ...,  0.73380252,\n",
              "          0.73380252,  0.73380252],\n",
              "        ...,\n",
              "        [ 0.73380252,  0.73380252,  0.73380252, ...,  0.73380252,\n",
              "          0.73380252,  0.73380252],\n",
              "        [ 0.73380252,  0.73380252,  0.73380252, ...,  0.73380252,\n",
              "          0.73380252,  0.73380252],\n",
              "        [ 0.73380252,  0.73380252,  0.73380252, ...,  0.73380252,\n",
              "          0.73380252,  0.73380252]],\n",
              "\n",
              "       [[-1.        ,  0.64675808,  0.64675808, ...,  0.64675808,\n",
              "          0.64675808,  0.64675808],\n",
              "        [-1.        ,  0.64675808,  0.64675808, ...,  0.64675808,\n",
              "          0.64675808,  0.64675808],\n",
              "        [-1.        ,  0.64675808,  0.64675808, ...,  0.64675808,\n",
              "          0.64675808,  0.64675808],\n",
              "        ...,\n",
              "        [ 0.64675808,  0.64675808,  0.64675808, ...,  0.64675808,\n",
              "          0.64675808,  0.64675808],\n",
              "        [ 0.64675808,  0.64675808,  0.64675808, ...,  0.64675808,\n",
              "          0.64675808,  0.64675808],\n",
              "        [ 0.64675808,  0.64675808,  0.64675808, ...,  0.64675808,\n",
              "          0.64675808,  0.64675808]],\n",
              "\n",
              "       [[-1.        ,  0.68676143,  0.68676143, ...,  0.68676143,\n",
              "          0.68676143,  0.68676143],\n",
              "        [-1.        ,  0.68676143,  0.68676143, ...,  0.68676143,\n",
              "          0.68676143,  0.68676143],\n",
              "        [-1.        ,  0.68676143,  0.68676143, ...,  0.68676143,\n",
              "          0.68676143,  0.68676143],\n",
              "        ...,\n",
              "        [ 0.68676143,  0.68676143,  0.68676143, ...,  0.68676143,\n",
              "          0.68676143,  0.68676143],\n",
              "        [ 0.68676143,  0.68676143,  0.68676143, ...,  0.68676143,\n",
              "          0.68676143,  0.68676143],\n",
              "        [ 0.68676143,  0.68676143,  0.68676143, ...,  0.68676143,\n",
              "          0.68676143,  0.68676143]],\n",
              "\n",
              "       ...,\n",
              "\n",
              "       [[-1.        ,  0.83897017,  0.07971305, ...,  0.26423136,\n",
              "          0.34551322,  0.30352468],\n",
              "        [-0.81394718,  0.88279024,  0.04905819, ...,  0.26513122,\n",
              "          0.3312349 ,  0.30293025],\n",
              "        [-0.80245028,  0.91105406,  0.02778962, ...,  0.26991984,\n",
              "          0.32957905,  0.31714937],\n",
              "        ...,\n",
              "        [ 0.34445098,  0.34445098,  0.34445098, ...,  0.34445098,\n",
              "          0.34445098,  0.34445098],\n",
              "        [ 0.34445098,  0.34445098,  0.34445098, ...,  0.34445098,\n",
              "          0.34445098,  0.34445098],\n",
              "        [ 0.34445098,  0.34445098,  0.34445098, ...,  0.34445098,\n",
              "          0.34445098,  0.34445098]],\n",
              "\n",
              "       [[-0.91607394,  0.8603242 ,  0.07919899, ...,  0.24580551,\n",
              "          0.32389046,  0.37676245],\n",
              "        [-0.75484858,  0.88137229,  0.06519726, ...,  0.27542676,\n",
              "          0.33846017,  0.34591431],\n",
              "        [-0.75451597,  0.86649074,  0.06879582, ...,  0.2857061 ,\n",
              "          0.33898455,  0.31969144],\n",
              "        ...,\n",
              "        [ 0.35907468,  0.35907468,  0.35907468, ...,  0.35907468,\n",
              "          0.35907468,  0.35907468],\n",
              "        [ 0.35907468,  0.35907468,  0.35907468, ...,  0.35907468,\n",
              "          0.35907468,  0.35907468],\n",
              "        [ 0.35907468,  0.35907468,  0.35907468, ...,  0.35907468,\n",
              "          0.35907468,  0.35907468]],\n",
              "\n",
              "       [[-1.        ,  0.62562895,  0.62562895, ...,  0.62562895,\n",
              "          0.62562895,  0.62562895],\n",
              "        [-1.        ,  0.62562895,  0.62562895, ...,  0.62562895,\n",
              "          0.62562895,  0.62562895],\n",
              "        [-1.        ,  0.62562895,  0.62562895, ...,  0.62562895,\n",
              "          0.62562895,  0.62562895],\n",
              "        ...,\n",
              "        [ 0.62562895,  0.62562895,  0.62562895, ...,  0.62562895,\n",
              "          0.62562895,  0.62562895],\n",
              "        [ 0.62562895,  0.62562895,  0.62562895, ...,  0.62562895,\n",
              "          0.62562895,  0.62562895],\n",
              "        [ 0.62562895,  0.62562895,  0.62562895, ...,  0.62562895,\n",
              "          0.62562895,  0.62562895]]])"
            ]
          },
          "metadata": {},
          "execution_count": 38
        }
      ]
    },
    {
      "cell_type": "code",
      "source": [
        "data"
      ],
      "metadata": {
        "colab": {
          "base_uri": "https://localhost:8080/"
        },
        "id": "BG9yjdEikgSB",
        "outputId": "18c1f939-badf-4296-f62f-cc11f863a654"
      },
      "execution_count": null,
      "outputs": [
        {
          "output_type": "execute_result",
          "data": {
            "text/plain": [
              "array([[[-6.02393616e+02,  0.00000000e+00,  0.00000000e+00, ...,\n",
              "          0.00000000e+00,  0.00000000e+00,  0.00000000e+00],\n",
              "        [-6.02393616e+02,  0.00000000e+00,  0.00000000e+00, ...,\n",
              "          0.00000000e+00,  0.00000000e+00,  0.00000000e+00],\n",
              "        [-6.02393616e+02,  0.00000000e+00,  0.00000000e+00, ...,\n",
              "          0.00000000e+00,  0.00000000e+00,  0.00000000e+00],\n",
              "        ...,\n",
              "        [ 0.00000000e+00,  0.00000000e+00,  0.00000000e+00, ...,\n",
              "          0.00000000e+00,  0.00000000e+00,  0.00000000e+00],\n",
              "        [ 0.00000000e+00,  0.00000000e+00,  0.00000000e+00, ...,\n",
              "          0.00000000e+00,  0.00000000e+00,  0.00000000e+00],\n",
              "        [ 0.00000000e+00,  0.00000000e+00,  0.00000000e+00, ...,\n",
              "          0.00000000e+00,  0.00000000e+00,  0.00000000e+00]],\n",
              "\n",
              "       [[-6.42114136e+02,  0.00000000e+00,  0.00000000e+00, ...,\n",
              "          0.00000000e+00,  0.00000000e+00,  0.00000000e+00],\n",
              "        [-6.42114136e+02,  0.00000000e+00,  0.00000000e+00, ...,\n",
              "          0.00000000e+00,  0.00000000e+00,  0.00000000e+00],\n",
              "        [-6.42114136e+02,  0.00000000e+00,  0.00000000e+00, ...,\n",
              "          0.00000000e+00,  0.00000000e+00,  0.00000000e+00],\n",
              "        ...,\n",
              "        [ 0.00000000e+00,  0.00000000e+00,  0.00000000e+00, ...,\n",
              "          0.00000000e+00,  0.00000000e+00,  0.00000000e+00],\n",
              "        [ 0.00000000e+00,  0.00000000e+00,  0.00000000e+00, ...,\n",
              "          0.00000000e+00,  0.00000000e+00,  0.00000000e+00],\n",
              "        [ 0.00000000e+00,  0.00000000e+00,  0.00000000e+00, ...,\n",
              "          0.00000000e+00,  0.00000000e+00,  0.00000000e+00]],\n",
              "\n",
              "       [[-6.54646973e+02,  0.00000000e+00,  0.00000000e+00, ...,\n",
              "          0.00000000e+00,  0.00000000e+00,  0.00000000e+00],\n",
              "        [-6.54646973e+02,  0.00000000e+00,  0.00000000e+00, ...,\n",
              "          0.00000000e+00,  0.00000000e+00,  0.00000000e+00],\n",
              "        [-6.54646973e+02,  0.00000000e+00,  0.00000000e+00, ...,\n",
              "          0.00000000e+00,  0.00000000e+00,  0.00000000e+00],\n",
              "        ...,\n",
              "        [ 0.00000000e+00,  0.00000000e+00,  0.00000000e+00, ...,\n",
              "          0.00000000e+00,  0.00000000e+00,  0.00000000e+00],\n",
              "        [ 0.00000000e+00,  0.00000000e+00,  0.00000000e+00, ...,\n",
              "          0.00000000e+00,  0.00000000e+00,  0.00000000e+00],\n",
              "        [ 0.00000000e+00,  0.00000000e+00,  0.00000000e+00, ...,\n",
              "          0.00000000e+00,  0.00000000e+00,  0.00000000e+00]],\n",
              "\n",
              "       ...,\n",
              "\n",
              "       [[-2.75747375e+02,  1.01426064e+02, -5.42978439e+01, ...,\n",
              "         -1.64530716e+01,  2.17865735e-01, -8.39399719e+00],\n",
              "        [-2.37587875e+02,  1.10413574e+02, -6.05851669e+01, ...,\n",
              "         -1.62685108e+01, -2.71062231e+00, -8.51591682e+00],\n",
              "        [-2.35229858e+02,  1.16210495e+02, -6.49473572e+01, ...,\n",
              "         -1.52863636e+01, -3.05023742e+00, -5.59956884e+00],\n",
              "        ...,\n",
              "        [ 0.00000000e+00,  0.00000000e+00,  0.00000000e+00, ...,\n",
              "          0.00000000e+00,  0.00000000e+00,  0.00000000e+00],\n",
              "        [ 0.00000000e+00,  0.00000000e+00,  0.00000000e+00, ...,\n",
              "          0.00000000e+00,  0.00000000e+00,  0.00000000e+00],\n",
              "        [ 0.00000000e+00,  0.00000000e+00,  0.00000000e+00, ...,\n",
              "          0.00000000e+00,  0.00000000e+00,  0.00000000e+00]],\n",
              "\n",
              "       [[-2.90621063e+02,  1.14240540e+02, -6.37868958e+01, ...,\n",
              "         -2.58153496e+01, -8.01888943e+00,  4.03124619e+00],\n",
              "        [-2.53875946e+02,  1.19037643e+02, -6.69780502e+01, ...,\n",
              "         -1.90643253e+01, -4.69828463e+00, -2.99940038e+00],\n",
              "        [-2.53800140e+02,  1.15645966e+02, -6.61578979e+01, ...,\n",
              "         -1.67215462e+01, -4.57877350e+00, -8.97589493e+00],\n",
              "        ...,\n",
              "        [ 0.00000000e+00,  0.00000000e+00,  0.00000000e+00, ...,\n",
              "          0.00000000e+00,  0.00000000e+00,  0.00000000e+00],\n",
              "        [ 0.00000000e+00,  0.00000000e+00,  0.00000000e+00, ...,\n",
              "          0.00000000e+00,  0.00000000e+00,  0.00000000e+00],\n",
              "        [ 0.00000000e+00,  0.00000000e+00,  0.00000000e+00, ...,\n",
              "          0.00000000e+00,  0.00000000e+00,  0.00000000e+00]],\n",
              "\n",
              "       [[-7.31037842e+02,  0.00000000e+00,  0.00000000e+00, ...,\n",
              "          0.00000000e+00,  0.00000000e+00,  0.00000000e+00],\n",
              "        [-7.31037842e+02,  0.00000000e+00,  0.00000000e+00, ...,\n",
              "          0.00000000e+00,  0.00000000e+00,  0.00000000e+00],\n",
              "        [-7.31037842e+02,  0.00000000e+00,  0.00000000e+00, ...,\n",
              "          0.00000000e+00,  0.00000000e+00,  0.00000000e+00],\n",
              "        ...,\n",
              "        [ 0.00000000e+00,  0.00000000e+00,  0.00000000e+00, ...,\n",
              "          0.00000000e+00,  0.00000000e+00,  0.00000000e+00],\n",
              "        [ 0.00000000e+00,  0.00000000e+00,  0.00000000e+00, ...,\n",
              "          0.00000000e+00,  0.00000000e+00,  0.00000000e+00],\n",
              "        [ 0.00000000e+00,  0.00000000e+00,  0.00000000e+00, ...,\n",
              "          0.00000000e+00,  0.00000000e+00,  0.00000000e+00]]])"
            ]
          },
          "metadata": {},
          "execution_count": 52
        }
      ]
    }
  ]
}